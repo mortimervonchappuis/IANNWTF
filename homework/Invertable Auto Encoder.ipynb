{
 "cells": [
  {
   "cell_type": "code",
   "execution_count": 3,
   "id": "b252a06d",
   "metadata": {},
   "outputs": [],
   "source": [
    "import tensorflow_datasets as tfds\n",
    "import tensorflow as tf\n",
    "import numpy as np\n",
    "import math\n",
    "\n",
    "(train, test) , info = tfds.load('mnist', split =['train', 'test'], \n",
    "                                 as_supervised=True , with_info=True)"
   ]
  },
  {
   "cell_type": "code",
   "execution_count": 4,
   "id": "ba2b00dd",
   "metadata": {},
   "outputs": [],
   "source": [
    "def preprocess(data):\n",
    "    # DATA TYPE\n",
    "    data = data.map(lambda img, target: (tf.cast(img, tf.float32)))\n",
    "    # SHAPE\n",
    "    data = data.map(lambda img: tf.reshape(img, (28 ** 2,)))\n",
    "    # NORMALIZE\n",
    "    data = data.map(lambda img: ((img - 128.)/64.))\n",
    "    # DATAFLOW PREP\n",
    "    data = data.cache()\n",
    "    data = data.shuffle(1000, seed=42)\n",
    "    data = data.batch(32)\n",
    "    data = data.prefetch(10)\n",
    "    return data\n",
    "\n",
    "\n",
    "train = train.apply(preprocess)\n",
    "test  = test.apply(preprocess)"
   ]
  },
  {
   "cell_type": "code",
   "execution_count": 257,
   "id": "2fe9ac8f",
   "metadata": {},
   "outputs": [],
   "source": [
    "from tqdm import tqdm\n",
    "\n",
    "\n",
    "\n",
    "class LeakyRelu:\n",
    "    def __init__(self, alpha=0.2):\n",
    "        self.alpha = alpha\n",
    "    \n",
    "    \n",
    "    def __call__(self, x):\n",
    "        return tf.cast(x >= 0, tf.float32) * x + tf.cast(x < 0, tf.float32) * x * self.alpha\n",
    "    \n",
    "    \n",
    "    def inv(self, x):\n",
    "        return tf.cast(x >= 0, tf.float32) * x + tf.cast(x < 0, tf.float32) * x * (1/self.alpha)\n",
    "\n",
    "\n",
    "\n",
    "class InvDense(tf.keras.layers.Layer):\n",
    "    def __init__(self, n_units, activation=LeakyRelu, **kwargs):\n",
    "        super().__init__()\n",
    "        self.n_units = n_units\n",
    "        self.activation = activation()\n",
    "    \n",
    "    \n",
    "    def build(self, n_inputs):\n",
    "        self.n_inputs = n_inputs[1]\n",
    "        limit = math.sqrt(6 / (self.n_inputs + self.n_units))\n",
    "        self.W = tf.random.uniform((self.n_units, self.n_inputs), -limit, limit)\n",
    "        self.b = tf.zeros(shape=(1, self.n_units))\n",
    "        self.is_built = True\n",
    "    \n",
    "    \n",
    "    def call(self, x):\n",
    "        z = tf.transpose(self.W @ tf.transpose(x)) + self.b\n",
    "        return self.activation(z)\n",
    "    \n",
    "    \n",
    "    def inv(self, y):\n",
    "        W_T = tf.transpose(self.W)\n",
    "        #W_T = self.W\n",
    "        #W_inv = tf.linalg.inv(W_T @ self.W) @ W_T\n",
    "        W_inv = W_T\n",
    "        #W_inv = tf.linalg.inv(self.W @ W_T) @ self.W\n",
    "        #W_inv = tf.stop_gradient(W_inv)\n",
    "        z = self.activation.inv(y)\n",
    "        x = tf.transpose(W_inv @ tf.transpose(z - self.b))\n",
    "        return x\n",
    "        \n",
    "\n",
    "\n",
    "class IAE(tf.keras.Model):\n",
    "    def __init__(self, **kwargs):\n",
    "        super().__init__(**kwargs)\n",
    "        self.layer_0 = InvDense(28**2 - 1)\n",
    "        self.layer_1 = InvDense(28**2 - 1)\n",
    "        self.layer_2 = InvDense(28**2 - 1)\n",
    "        self.layer_3 = InvDense(28**2 - 1)\n",
    "        self.optimizer = tf.keras.optimizers.Adam(learning_rate=0.001)\n",
    "    \n",
    "    \n",
    "    #@tf.function\n",
    "    def call(self, x):\n",
    "        for layer in self.layers:\n",
    "            x = layer(x)\n",
    "            #plt.imshow(x.numpy()[0,...].reshape((28, 28)), cmap='binary')\n",
    "            #plt.show()\n",
    "        return x\n",
    "    \n",
    "    \n",
    "    #@tf.function\n",
    "    def inv(self, x):\n",
    "        for layer in self.layers[::-1]:\n",
    "            x = layer.inv(x)\n",
    "            #plt.imshow(x.numpy()[0,...].reshape((28, 28)), cmap='binary')\n",
    "            #plt.show()\n",
    "        return x\n",
    "    \n",
    "    \n",
    "    #@tf.function\n",
    "    def full(self, x):\n",
    "        y = self(x)\n",
    "        x_inv = self.inv(y)\n",
    "        return x_inv\n",
    "    \n",
    "    \n",
    "    #@tf.function\n",
    "    def loss(self, x):\n",
    "        mse = tf.keras.losses.MeanSquaredError()\n",
    "        return mse(x, self.full(x))\n",
    "    \n",
    "    \n",
    "    def step(self, x):\n",
    "        with tf.GradientTape() as tape:\n",
    "            loss = self.loss(x)\n",
    "        gradients = tape.gradient(loss, self.trainable_weights)\n",
    "        self.optimizer.apply_gradients(zip(gradients, self.trainable_weights))\n",
    "    \n",
    "    \n",
    "    def train(self, epochs, dataset):\n",
    "        with tqdm(total=epochs) as bar:\n",
    "            bar.set_description('JAZZ')\n",
    "            for epoch in range(epochs):\n",
    "                for x in dataset:\n",
    "                    self.step(x)\n",
    "                bar.update(1)\n",
    "\n",
    "\n",
    "model = IAE()"
   ]
  },
  {
   "cell_type": "code",
   "execution_count": 258,
   "id": "4fee1a34",
   "metadata": {},
   "outputs": [
    {
     "name": "stderr",
     "output_type": "stream",
     "text": [
      "2023-02-07 18:17:04.312840: W tensorflow/core/kernels/data/cache_dataset_ops.cc:856] The calling iterator did not fully read the dataset being cached. In order to avoid unexpected truncation of the dataset, the partially cached contents of the dataset  will be discarded. This can happen if you have an input pipeline similar to `dataset.cache().take(k).repeat()`. You should use `dataset.take(k).cache().repeat()` instead.\n",
      "2023-02-07 18:17:04.312961: W tensorflow/core/kernels/data/cache_dataset_ops.cc:856] The calling iterator did not fully read the dataset being cached. In order to avoid unexpected truncation of the dataset, the partially cached contents of the dataset  will be discarded. This can happen if you have an input pipeline similar to `dataset.cache().take(k).repeat()`. You should use `dataset.take(k).cache().repeat()` instead.\n"
     ]
    },
    {
     "name": "stdout",
     "output_type": "stream",
     "text": [
      "tf.Tensor(876.6137, shape=(), dtype=float32)\n"
     ]
    },
    {
     "name": "stderr",
     "output_type": "stream",
     "text": [
      "JAZZ: 100%|█████████████████████████████████████████████████████████████| 10/10 [02:45<00:00, 16.52s/it]\n"
     ]
    }
   ],
   "source": [
    "x = next(iter(test))\n",
    "print(model.loss(x))\n",
    "model.train(10, train)"
   ]
  },
  {
   "cell_type": "code",
   "execution_count": 259,
   "id": "196b5b47",
   "metadata": {
    "scrolled": false
   },
   "outputs": [
    {
     "name": "stderr",
     "output_type": "stream",
     "text": [
      "2023-02-07 18:19:49.549786: W tensorflow/core/kernels/data/cache_dataset_ops.cc:856] The calling iterator did not fully read the dataset being cached. In order to avoid unexpected truncation of the dataset, the partially cached contents of the dataset  will be discarded. This can happen if you have an input pipeline similar to `dataset.cache().take(k).repeat()`. You should use `dataset.take(k).cache().repeat()` instead.\n",
      "2023-02-07 18:19:49.549876: W tensorflow/core/kernels/data/cache_dataset_ops.cc:856] The calling iterator did not fully read the dataset being cached. In order to avoid unexpected truncation of the dataset, the partially cached contents of the dataset  will be discarded. This can happen if you have an input pipeline similar to `dataset.cache().take(k).repeat()`. You should use `dataset.take(k).cache().repeat()` instead.\n"
     ]
    },
    {
     "data": {
      "image/png": "[encoded data removed]",
      "text/plain": [
       "<Figure size 640x480 with 1 Axes>"
      ]
     },
     "metadata": {},
     "output_type": "display_data"
    },
    {
     "data": {
      "image/png": "[encoded data removed]",
      "text/plain": [
       "<Figure size 640x480 with 1 Axes>"
      ]
     },
     "metadata": {},
     "output_type": "display_data"
    }
   ],
   "source": [
    "from matplotlib import pyplot as plt\n",
    "%matplotlib inline\n",
    "\n",
    "x = next(iter(test))\n",
    "plt.imshow(x.numpy()[0,...].reshape((28, 28)), cmap='binary')\n",
    "plt.show()\n",
    "x_inv = model.full(x)\n",
    "#print(model.loss(x))\n",
    "plt.imshow(x_inv.numpy()[0,...].reshape((28, 28)), cmap='binary')\n",
    "plt.show()\n",
    "\n",
    "#17402983000000\n",
    "#19822497000000"
   ]
  }
 ],
 "metadata": {
  "kernelspec": {
   "display_name": "Python 3",
   "language": "python",
   "name": "python3"
  },
  "language_info": {
   "codemirror_mode": {
    "name": "ipython",
    "version": 3
   },
   "file_extension": ".py",
   "mimetype": "text/x-python",
   "name": "python",
   "nbconvert_exporter": "python",
   "pygments_lexer": "ipython3",
   "version": "3.10.9"
  }
 },
 "nbformat": 4,
 "nbformat_minor": 5
}
