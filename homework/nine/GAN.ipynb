{
 "cells": [
  {
   "cell_type": "code",
   "execution_count": 1,
   "id": "424e6e4c",
   "metadata": {},
   "outputs": [
    {
     "name": "stderr",
     "output_type": "stream",
     "text": [
      "2023-01-23 22:36:32.683167: W tensorflow/stream_executor/platform/default/dso_loader.cc:64] Could not load dynamic library 'libcudart.so.11.0'; dlerror: libcudart.so.11.0: cannot open shared object file: No such file or directory\n",
      "2023-01-23 22:36:32.683315: I tensorflow/stream_executor/cuda/cudart_stub.cc:29] Ignore above cudart dlerror if you do not have a GPU set up on your machine.\n"
     ]
    }
   ],
   "source": [
    "import os\n",
    "import matplotlib.pyplot as plt\n",
    "import numpy as np\n",
    "import tensorflow as tf\n",
    "import urllib\n",
    "import tensorflow_datasets as tfds"
   ]
  },
  {
   "cell_type": "code",
   "execution_count": 4,
   "id": "377d523f",
   "metadata": {},
   "outputs": [
    {
     "name": "stdout",
     "output_type": "stream",
     "text": [
      "[b'aircraft carrier', b'airplane', b'alarm clock', b'ambulance', b'angel', b'animal migration', b'ant', b'anvil', b'apple', b'arm']\n"
     ]
    },
    {
     "data": {
      "text/plain": [
       "('npy_files/candle.npy', <http.client.HTTPMessage at 0x7f71fe0c6050>)"
      ]
     },
     "execution_count": 4,
     "metadata": {},
     "output_type": "execute_result"
    }
   ],
   "source": [
    "categories = [line.rstrip(b'\\n') for line in urllib.request.urlopen('https://raw.githubusercontent.com/googlecreativelab/quickdraw-dataset/master/categories.txt')]\n",
    "print(categories[:10])\n",
    "category = 'candle'\n",
    "\n",
    "if not os.path.isdir('npy_files'):\n",
    "    os.mkdir('npy_files')\n",
    "    \n",
    "url = f'https://storage.googleapis.com/quickdraw_dataset/full/numpy_bitmap/{category}.npy'  \n",
    "urllib.request.urlretrieve(url, f'npy_files/{category}.npy')"
   ]
  },
  {
   "cell_type": "code",
   "execution_count": 5,
   "id": "4687bdcd",
   "metadata": {},
   "outputs": [
    {
     "name": "stdout",
     "output_type": "stream",
     "text": [
      "141545 images to train on\n",
      "0 255\n"
     ]
    }
   ],
   "source": [
    "train_images = np.load(f'npy_files/{category}.npy')\n",
    "print(f'{len(train_images)} images to train on')\n",
    "print(np.min(train_images), np.max(train_images))"
   ]
  },
  {
   "cell_type": "code",
   "execution_count": 6,
   "id": "89f37dcf",
   "metadata": {},
   "outputs": [
    {
     "name": "stderr",
     "output_type": "stream",
     "text": [
      "2023-01-23 22:38:57.021783: W tensorflow/stream_executor/platform/default/dso_loader.cc:64] Could not load dynamic library 'libcuda.so.1'; dlerror: libcuda.so.1: cannot open shared object file: No such file or directory\n",
      "2023-01-23 22:38:57.021997: W tensorflow/stream_executor/cuda/cuda_driver.cc:269] failed call to cuInit: UNKNOWN ERROR (303)\n",
      "2023-01-23 22:38:57.022145: I tensorflow/stream_executor/cuda/cuda_diagnostics.cc:156] kernel driver does not appear to be running on this host (typewriter): /proc/driver/nvidia/version does not exist\n",
      "2023-01-23 22:38:57.029315: I tensorflow/core/platform/cpu_feature_guard.cc:193] This TensorFlow binary is optimized with oneAPI Deep Neural Network Library (oneDNN) to use the following CPU instructions in performance-critical operations:  AVX2 FMA\n",
      "To enable them in other operations, rebuild TensorFlow with the appropriate compiler flags.\n",
      "2023-01-23 22:38:57.039155: W tensorflow/core/framework/cpu_allocator_impl.cc:82] Allocation of 110971280 exceeds 10% of free system memory.\n"
     ]
    }
   ],
   "source": [
    "dataset = tf.data.Dataset.from_tensor_slices(train_images)\n",
    "\n",
    "def preprocess(data):\n",
    "    # DATA TYPE\n",
    "    data = data.map(lambda img: (tf.cast(img, tf.float32)))\n",
    "    # NORMALIZE\n",
    "    data = data.map(lambda img: (img/255.))\n",
    "    # DUPING AND NOISE\n",
    "    data = data.map(lambda img: (tf.reshape(img, (28, 28, 1))))\n",
    "    # DATAFLOW PREP\n",
    "    data = data.cache()\n",
    "    data = data.shuffle(1000, seed=42)\n",
    "    data = data.batch(32)\n",
    "    data = data.prefetch(3)\n",
    "    return data\n",
    "\n",
    "dataset = dataset.apply(preprocess)"
   ]
  },
  {
   "cell_type": "code",
   "execution_count": 20,
   "id": "fc89a1e2",
   "metadata": {},
   "outputs": [
    {
     "name": "stderr",
     "output_type": "stream",
     "text": [
      "2023-01-23 22:45:42.236469: W tensorflow/core/kernels/data/cache_dataset_ops.cc:856] The calling iterator did not fully read the dataset being cached. In order to avoid unexpected truncation of the dataset, the partially cached contents of the dataset  will be discarded. This can happen if you have an input pipeline similar to `dataset.cache().take(k).repeat()`. You should use `dataset.take(k).cache().repeat()` instead.\n"
     ]
    },
    {
     "data": {
      "image/png": "[encoded data removed]",
      "text/plain": [
       "<Figure size 864x216 with 1 Axes>"
      ]
     },
     "metadata": {
      "needs_background": "light"
     },
     "output_type": "display_data"
    }
   ],
   "source": [
    "from matplotlib import pyplot as plt\n",
    "%matplotlib inline\n",
    "\n",
    "x = next(iter(dataset))\n",
    "\n",
    "x = tf.concat([x[i, ...] for i in range(4)], axis=1)\n",
    "plt.figure(figsize=(12, 3))\n",
    "plt.imshow(x, cmap='binary')\n",
    "plt.show()"
   ]
  },
  {
   "cell_type": "code",
   "execution_count": 8,
   "id": "df2267e4",
   "metadata": {},
   "outputs": [
    {
     "data": {
      "text/plain": [
       "<tf.Tensor: shape=(2, 1), dtype=float32, numpy=\n",
       "array([[0.50691825],\n",
       "       [0.49308184]], dtype=float32)>"
      ]
     },
     "execution_count": 8,
     "metadata": {},
     "output_type": "execute_result"
    }
   ],
   "source": [
    "class Generator(tf.keras.Model):\n",
    "    def __init__(self, **kwargs):\n",
    "        super().__init__(**kwargs)\n",
    "        self.dense = tf.keras.layers.Dense(9 * 256, activation='relu')\n",
    "        self.flatten = tf.keras.layers.Reshape((3, 3, 256))\n",
    "        self.conv_0 = tf.keras.layers.Conv2DTranspose(filters=256, kernel_size=(3, 3), strides=(2, 2), padding='valid', activation='relu')\n",
    "        # (7, 7, 256)\n",
    "        self.conv_1 = tf.keras.layers.Conv2D(filters=256, kernel_size=(3, 3), padding='same', activation='relu')\n",
    "        self.conv_2 = tf.keras.layers.Conv2D(filters=256, kernel_size=(3, 3), padding='same', activation='relu')\n",
    "        self.norm_0 = tf.keras.layers.BatchNormalization()\n",
    "        self.conv_3 = tf.keras.layers.Conv2DTranspose(filters=128, kernel_size=(3, 3), strides=(2, 2), padding='same', activation='relu')\n",
    "        # (14, 14, 128)\n",
    "        self.conv_4 = tf.keras.layers.Conv2D(filters=128, kernel_size=(3, 3), padding='same', activation='relu')\n",
    "        self.conv_5 = tf.keras.layers.Conv2D(filters=128, kernel_size=(3, 3), padding='same', activation='relu')\n",
    "        self.norm_1 = tf.keras.layers.BatchNormalization()\n",
    "        self.conv_6 = tf.keras.layers.Conv2DTranspose(filters=64, kernel_size=(3, 3), strides=(2, 2), padding='same', activation='relu')\n",
    "        # (28, 28, 128)\n",
    "        self.conv_7 = tf.keras.layers.Conv2D(filters=64, kernel_size=(3, 3), padding='same', activation='relu')\n",
    "        self.conv_8 = tf.keras.layers.Conv2D(filters=64, kernel_size=(3, 3), padding='same', activation='relu')\n",
    "        self.norm_2 = tf.keras.layers.BatchNormalization()\n",
    "        self.conv_9 = tf.keras.layers.Conv2D(filters=1, kernel_size=(3, 3), padding='same')\n",
    "        self.optimizer = tf.keras.optimizers.Adam(learning_rate=1e-3)\n",
    "        \n",
    "        \n",
    "    def call(self, batch_size, training=True):\n",
    "        X = tf.random.normal((batch_size, 256))\n",
    "        X = self.dense(X, training=training)\n",
    "        X = self.flatten(X, training=training)\n",
    "        X = self.conv_0(X, training=training)\n",
    "        # 1st BLOCK\n",
    "        Z = self.conv_1(X, training=training)\n",
    "        Z = self.conv_2(Z, training=training)\n",
    "        Z = Z + X\n",
    "        self.norm_0(Z, training=training)\n",
    "        X = self.conv_3(Z, training=training)\n",
    "        # 2nd BLOCK\n",
    "        Z = self.conv_4(X, training=training)\n",
    "        Z = self.conv_5(Z, training=training)\n",
    "        Z = Z + X\n",
    "        self.norm_1(Z, training=training)\n",
    "        X = self.conv_6(Z, training=training)\n",
    "        # 3rd BLOCK\n",
    "        Z = self.conv_7(X, training=training)\n",
    "        Z = self.conv_8(Z, training=training)\n",
    "        Z = Z + X\n",
    "        self.norm_2(Z, training=training)\n",
    "        X = self.conv_9(Z, training=training)\n",
    "        return X\n",
    "        \n",
    "\n",
    "\n",
    "class Discriminator(tf.keras.Model):\n",
    "    def __init__(self, **kwargs):\n",
    "        super().__init__(**kwargs)\n",
    "        self.conv_0 = tf.keras.layers.Conv2D(filters=32, kernel_size=(3, 3), strides=(1, 1), padding='same', activation='relu')\n",
    "        # (28, 28, 64)\n",
    "        self.conv_1 = tf.keras.layers.SeparableConv2D(filters=64, kernel_size=(3, 3), strides=(1, 1), padding='same', activation='relu')\n",
    "        self.conv_2 = tf.keras.layers.SeparableConv2D(filters=64, kernel_size=(3, 3), strides=(1, 1), padding='same', activation='relu')\n",
    "        self.norm_0 = tf.keras.layers.BatchNormalization()\n",
    "        self.pool_0 = tf.keras.layers.AveragePooling2D(pool_size=(2, 2))\n",
    "        # (14, 14, 128)\n",
    "        self.conv_3 = tf.keras.layers.SeparableConv2D(filters=128, kernel_size=(3, 3), strides=(1, 1), padding='same', activation='relu')\n",
    "        self.conv_4 = tf.keras.layers.SeparableConv2D(filters=128, kernel_size=(3, 3), strides=(1, 1), padding='same', activation='relu')\n",
    "        self.norm_1 = tf.keras.layers.BatchNormalization()\n",
    "        self.pool_1 = tf.keras.layers.AveragePooling2D(pool_size=(2, 2))\n",
    "        # (7, 7, 256)\n",
    "        self.conv_5 = tf.keras.layers.SeparableConv2D(filters=256, kernel_size=(3, 3), strides=(1, 1), padding='same', activation='relu')\n",
    "        self.conv_6 = tf.keras.layers.SeparableConv2D(filters=256, kernel_size=(3, 3), strides=(1, 1), padding='same', activation='relu')\n",
    "        self.norm_2 = tf.keras.layers.BatchNormalization()\n",
    "        self.pool_2 = tf.keras.layers.GlobalAveragePooling2D()\n",
    "        # (256)\n",
    "        self.flatten = tf.keras.layers.Flatten()\n",
    "        self.dense = tf.keras.layers.Dense(1, activation='sigmoid')\n",
    "        self.optimizer = tf.keras.optimizers.Adam(learning_rate=1e-3)\n",
    "    \n",
    "    \n",
    "    def call(self, X, training=True):\n",
    "        # Constructing Filterspace\n",
    "        X = self.conv_0(X, training=training)\n",
    "        # 1st BLOCK\n",
    "        Z = self.conv_1(X, training=training)\n",
    "        Z = self.conv_2(Z, training=training)\n",
    "        Z = Z + tf.concat([X, X], axis=3)\n",
    "        Z = self.norm_0(Z, training=training)\n",
    "        X = self.pool_0(Z, training=training)\n",
    "        # 2nd BLOCK\n",
    "        Z = self.conv_3(X, training=training)\n",
    "        Z = self.conv_4(Z, training=training)\n",
    "        Z = Z + tf.concat([X, X], axis=3)\n",
    "        Z = self.norm_1(Z, training=training)\n",
    "        X = self.pool_1(Z, training=training)\n",
    "        # 3rd BLOCK\n",
    "        Z = self.conv_5(X, training=training)\n",
    "        Z = self.conv_6(Z, training=training)\n",
    "        Z = Z + tf.concat([X, X], axis=3)\n",
    "        Z = self.norm_2(Z, training=training)\n",
    "        X = self.pool_2(Z, training=training)\n",
    "        # FINALLY\n",
    "        X = self.flatten(X)\n",
    "        P = self.dense(X)\n",
    "        return P\n",
    "\n",
    "\n",
    "\n",
    "G = Generator()\n",
    "D = Discriminator()\n",
    "D(G(2))"
   ]
  },
  {
   "cell_type": "code",
   "execution_count": 9,
   "id": "715f0c97",
   "metadata": {},
   "outputs": [],
   "source": [
    "import datetime\n",
    "from tqdm import tqdm\n",
    "\n",
    "\n",
    "\n",
    "class GAN(tf.keras.Model): # aka Adversarial Minmax\n",
    "    NAME = 'NAMELESS_MODEL'\n",
    "    def __init__(self, **kwargs):\n",
    "        super().__init__(**kwargs)\n",
    "        self.G = Generator()\n",
    "        self.D = Discriminator()\n",
    "        self.is_setup = False\n",
    "        self.loss = tf.keras.losses.BinaryCrossentropy()\n",
    "        self.loss_metric = tf.keras.metrics.Mean(name=\"loss\")\n",
    "        self.prev_epochs = 0\n",
    "    \n",
    "    \n",
    "    def reset_metrics(self):\n",
    "        for metric in self.metrics:\n",
    "            metric.reset_state()\n",
    "    \n",
    "    \n",
    "    def setup(self):\n",
    "        if self.is_setup:\n",
    "            return\n",
    "        # DEFINE PATHSf\n",
    "        current_time = datetime.datetime.now().strftime(\"%Y.%m.%d-%H:%M:%S\")\n",
    "        train_log_path = f\"logs/{self.NAME}{current_time}\"\n",
    "        # CONSTRUCT WRITERS\n",
    "        self.writer = tf.summary.create_file_writer(train_log_path)\n",
    "        self.is_setup = True\n",
    "    \n",
    "    \n",
    "    @tf.function\n",
    "    def call(self, X_true, training=False):\n",
    "        batch_size = X_true.shape[0]\n",
    "        X_false = self.G(batch_size)\n",
    "        X = tf.concat([X_true, X_false], axis=0)\n",
    "        P = self.D(X)\n",
    "        return P\n",
    "    \n",
    "    \n",
    "    @tf.function\n",
    "    def step(self, X_true, training=True):\n",
    "        batch_size = X_true.shape[0]\n",
    "        T = tf.concat([tf.ones((batch_size, 1)), tf.zeros((batch_size, 1))], axis=0)\n",
    "        if training:\n",
    "            with tf.GradientTape(persistent=True) as tape:\n",
    "                P = self(X_true, training=training)\n",
    "                L_D = self.loss(T, P)\n",
    "                L_G = -L_D\n",
    "            nabla_G = tape.gradient(L_G, self.G.trainable_weights)\n",
    "            nabla_D = tape.gradient(L_D, self.D.trainable_weights)\n",
    "            self.G.optimizer.apply_gradients(zip(nabla_G, self.G.trainable_weights))\n",
    "            self.D.optimizer.apply_gradients(zip(nabla_D, self.D.trainable_weights))\n",
    "        else:\n",
    "            P = self(X_true)\n",
    "            L_D = self.loss(T, P)\n",
    "        self.loss_metric.update_state(L_D)\n",
    "        return {metric.name: float(metric.result()) for metric in self.metrics}\n",
    "\n",
    "\n",
    "    def train(self, dataset, epochs):\n",
    "        training_metrics = {metric.name: [] for metric in self.metrics}\n",
    "        testing_metrics = {metric.name: [] for metric in self.metrics}\n",
    "        self.setup()\n",
    "        with tqdm(epochs) as bar:\n",
    "            bar.set_description('TRAINING')\n",
    "            for epoch in range(epochs):\n",
    "                # TRAINING\n",
    "                for X_true in dataset:\n",
    "                    metrics = self.step(X_true, training=True)\n",
    "                    for name, value in metrics.items():\n",
    "                        training_metrics[name].append(value)\n",
    "                # WRITING METRICS\n",
    "                with self.writer_train.as_default():\n",
    "                    for metric in self.metrics:\n",
    "                        tf.summary.scalar(metric.name, metric.result(), step=self.prev_epochs)\n",
    "                self.reset_metrics()\n",
    "                bar.update(1)\n",
    "                self.prev_epochs += 1\n",
    "            metrics = {metric.name: [training_metrics[metric.name], testing_metrics[metric.name]] for metric in self.metrics}\n",
    "            return metrics"
   ]
  },
  {
   "cell_type": "code",
   "execution_count": null,
   "id": "51da7f05",
   "metadata": {},
   "outputs": [
    {
     "name": "stderr",
     "output_type": "stream",
     "text": [
      "TRAINING: : 0it [00:00, ?it/s]"
     ]
    },
    {
     "name": "stdout",
     "output_type": "stream",
     "text": [
      "WARNING:tensorflow:Gradients do not exist for variables ['generator_1/batch_normalization_6/gamma:0', 'generator_1/batch_normalization_6/beta:0', 'generator_1/batch_normalization_7/gamma:0', 'generator_1/batch_normalization_7/beta:0', 'generator_1/batch_normalization_8/gamma:0', 'generator_1/batch_normalization_8/beta:0'] when minimizing the loss. If you're using `model.compile()`, did you forget to provide a `loss`argument?\n",
      "WARNING:tensorflow:Gradients do not exist for variables ['generator_1/batch_normalization_6/gamma:0', 'generator_1/batch_normalization_6/beta:0', 'generator_1/batch_normalization_7/gamma:0', 'generator_1/batch_normalization_7/beta:0', 'generator_1/batch_normalization_8/gamma:0', 'generator_1/batch_normalization_8/beta:0'] when minimizing the loss. If you're using `model.compile()`, did you forget to provide a `loss`argument?\n"
     ]
    },
    {
     "name": "stderr",
     "output_type": "stream",
     "text": [
      "2023-01-23 22:49:05.830789: W tensorflow/core/framework/cpu_allocator_impl.cc:82] Allocation of 32514048 exceeds 10% of free system memory.\n",
      "2023-01-23 22:49:11.352299: W tensorflow/core/framework/cpu_allocator_impl.cc:82] Allocation of 32514048 exceeds 10% of free system memory.\n",
      "2023-01-23 22:49:12.714207: W tensorflow/core/framework/cpu_allocator_impl.cc:82] Allocation of 32514048 exceeds 10% of free system memory.\n"
     ]
    }
   ],
   "source": [
    "model = GAN()\n",
    "model.train(dataset, 10)"
   ]
  },
  {
   "cell_type": "markdown",
   "id": "6eff5f5d",
   "metadata": {},
   "source": [
    "### Evaluation"
   ]
  },
  {
   "cell_type": "code",
   "execution_count": 26,
   "id": "796a0e09",
   "metadata": {},
   "outputs": [
    {
     "name": "stderr",
     "output_type": "stream",
     "text": [
      "2023-01-23 22:47:50.313753: W tensorflow/core/kernels/data/cache_dataset_ops.cc:856] The calling iterator did not fully read the dataset being cached. In order to avoid unexpected truncation of the dataset, the partially cached contents of the dataset  will be discarded. This can happen if you have an input pipeline similar to `dataset.cache().take(k).repeat()`. You should use `dataset.take(k).cache().repeat()` instead.\n"
     ]
    },
    {
     "data": {
      "image/png": "[encoded data removed]",
      "text/plain": [
       "<Figure size 864x216 with 1 Axes>"
      ]
     },
     "metadata": {
      "needs_background": "light"
     },
     "output_type": "display_data"
    }
   ],
   "source": [
    "from matplotlib import pyplot as plt\n",
    "%matplotlib inline\n",
    "\n",
    "x = model.G(3)\n",
    "x = tf.concat([x[i, ...] for i in range(3)], axis=1)\n",
    "plt.figure(figsize=(12, 3))\n",
    "plt.imshow(x, cmap='binary')\n",
    "plt.show()"
   ]
  }
 ],
 "metadata": {
  "kernelspec": {
   "display_name": "Python 3 (ipykernel)",
   "language": "python",
   "name": "python3"
  },
  "language_info": {
   "codemirror_mode": {
    "name": "ipython",
    "version": 3
   },
   "file_extension": ".py",
   "mimetype": "text/x-python",
   "name": "python",
   "nbconvert_exporter": "python",
   "pygments_lexer": "ipython3",
   "version": "3.10.9"
  }
 },
 "nbformat": 4,
 "nbformat_minor": 5
}
