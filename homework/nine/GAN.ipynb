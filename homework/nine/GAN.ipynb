{
 "cells": [
  {
   "cell_type": "code",
   "execution_count": 6,
   "id": "0ab7498b",
   "metadata": {},
   "outputs": [],
   "source": [
    "import os\n",
    "import matplotlib.pyplot as plt\n",
    "import numpy as np\n",
    "import tensorflow as tf\n",
    "import urllib\n",
    "import tensorflow_datasets as tfds"
   ]
  },
  {
   "cell_type": "code",
   "execution_count": 3,
   "id": "3ab2c0a4",
   "metadata": {},
   "outputs": [
    {
     "name": "stdout",
     "output_type": "stream",
     "text": [
      "[b'aircraft carrier', b'airplane', b'alarm clock', b'ambulance', b'angel', b'animal migration', b'ant', b'anvil', b'apple', b'arm']\n"
     ]
    }
   ],
   "source": [
    "categories = [line.rstrip(b'\\n') for line in urllib.request.urlopen('https://raw.githubusercontent.com/googlecreativelab/quickdraw-dataset/master/categories.txt')]\n",
    "print(categories[:10])\n",
    "category = 'candle'"
   ]
  },
  {
   "cell_type": "code",
   "execution_count": 5,
   "id": "ebb156f3",
   "metadata": {},
   "outputs": [
    {
     "name": "stdout",
     "output_type": "stream",
     "text": [
      "141545 images to train on\n"
     ]
    }
   ],
   "source": [
    "if not os.path.isdir('npy_files'):\n",
    "    os.mkdir('npy_files')\n",
    "    \n",
    "url = f'https://storage.googleapis.com/quickdraw_dataset/full/numpy_bitmap/{category}.npy'  \n",
    "urllib.request.urlretrieve(url, f'npy_files/{category}.npy')\n",
    "\n",
    "train_images = np.load(f'npy_files/{category}.npy')\n",
    "print(f'{len(train_images)} images to train on')"
   ]
  },
  {
   "cell_type": "code",
   "execution_count": 11,
   "id": "06aebfb3",
   "metadata": {},
   "outputs": [
    {
     "name": "stdout",
     "output_type": "stream",
     "text": [
      "0 255\n"
     ]
    }
   ],
   "source": [
    "print(np.min(train_images), np.max(train_images))"
   ]
  },
  {
   "cell_type": "code",
   "execution_count": 20,
   "id": "d035e11d",
   "metadata": {},
   "outputs": [],
   "source": [
    "dataset = tf.data.Dataset.from_tensor_slices(train_images)\n",
    "\n",
    "def preprocess(data):\n",
    "    # DATA TYPE\n",
    "    data = data.map(lambda img: (tf.cast(img, tf.float32)))\n",
    "    # NORMALIZE\n",
    "    data = data.map(lambda img: (img/255.))\n",
    "    # DUPING AND NOISE\n",
    "    data = data.map(lambda img: (tf.reshape(img, (28, 28, 1))))\n",
    "    # DATAFLOW PREP\n",
    "    data = data.cache()\n",
    "    data = data.shuffle(1000, seed=42)\n",
    "    data = data.batch(32)\n",
    "    data = data.prefetch(3)\n",
    "    return data\n",
    "\n",
    "dataset = dataset.apply(preprocess)"
   ]
  },
  {
   "cell_type": "code",
   "execution_count": 28,
   "id": "aa1d2c0a",
   "metadata": {},
   "outputs": [
    {
     "name": "stderr",
     "output_type": "stream",
     "text": [
      "2023-01-23 17:58:42.226783: W tensorflow/core/kernels/data/cache_dataset_ops.cc:856] The calling iterator did not fully read the dataset being cached. In order to avoid unexpected truncation of the dataset, the partially cached contents of the dataset  will be discarded. This can happen if you have an input pipeline similar to `dataset.cache().take(k).repeat()`. You should use `dataset.take(k).cache().repeat()` instead.\n"
     ]
    },
    {
     "data": {
      "image/png": "[encoded data removed]",
      "text/plain": [
       "<Figure size 864x216 with 1 Axes>"
      ]
     },
     "metadata": {
      "needs_background": "light"
     },
     "output_type": "display_data"
    }
   ],
   "source": [
    "from matplotlib import pyplot as plt\n",
    "%matplotlib inline\n",
    "\n",
    "x = next(iter(dataset))\n",
    "\n",
    "x = tf.concat([x[i, ...] for i in range(4)], axis=1)\n",
    "plt.figure(figsize=(12, 3))\n",
    "plt.imshow(x, cmap='binary')\n",
    "plt.show()"
   ]
  },
  {
   "cell_type": "code",
   "execution_count": 29,
   "id": "ff8c41c2",
   "metadata": {},
   "outputs": [],
   "source": [
    "import datetime\n",
    "from tqdm import tqdm\n",
    "\n",
    "\n",
    "\n",
    "class Model(tf.keras.Model):\n",
    "    NAME = 'NAMELESS_MODEL'\n",
    "    def __init__(self, **kwargs):\n",
    "        super().__init__(**kwargs)\n",
    "        self.is_setup = False\n",
    "        self.loss_metric = tf.keras.metrics.Mean(name=\"loss\")\n",
    "        self.prev_epochs = 0\n",
    "    \n",
    "    \n",
    "    def reset_metrics(self):\n",
    "        for metric in self.metrics:\n",
    "            metric.reset_state()\n",
    "    \n",
    "    \n",
    "    def setup(self):\n",
    "        if self.is_setup:\n",
    "            return\n",
    "        # DEFINE PATHSf\n",
    "        current_time = datetime.datetime.now().strftime(\"%Y.%m.%d-%H:%M:%S\")\n",
    "        train_log_path = f\"logs/{self.NAME}{current_time}/train\"\n",
    "        val_log_path = f\"logs/{self.NAME}{current_time}/val\"\n",
    "        # CONSTRUCT WRITERS\n",
    "        self.writer_train = tf.summary.create_file_writer(train_log_path)\n",
    "        self.writer_val   = tf.summary.create_file_writer(val_log_path)\n",
    "        self.is_setup = True\n",
    "    \n",
    "    \n",
    "    @tf.function\n",
    "    def call(self, x, training=False):\n",
    "        for layer in self.layers:\n",
    "            x = layer(x, training=training)\n",
    "        return x\n",
    "    \n",
    "    \n",
    "    @tf.function\n",
    "    def step(self, X, training=True):\n",
    "        if training:\n",
    "            with tf.GradientTape() as tape:\n",
    "                L = self.loss(X)\n",
    "            gradient = tape.gradient(L, self.trainable_weights)\n",
    "            self.optimizer.apply_gradients(zip(gradient, self.trainable_weights))\n",
    "        else:\n",
    "            L = self.loss(X)\n",
    "        self.loss_metric.update_state(L)\n",
    "        return {metric.name: float(metric.result()) for metric in self.metrics}\n",
    "\n",
    "\n",
    "    def train(self, train, epochs):\n",
    "        training_metrics = {metric.name: [] for metric in self.metrics}\n",
    "        testing_metrics = {metric.name: [] for metric in self.metrics}\n",
    "        self.setup()\n",
    "        with tqdm(epochs) as bar:\n",
    "            bar.set_description('TRAINING')\n",
    "            for epoch in range(epochs):\n",
    "                # TRAINING\n",
    "                for X in train:\n",
    "                    metrics = self.step(X, training=True)\n",
    "                    for name, value in metrics.items():\n",
    "                        training_metrics[name].append(value)\n",
    "                # WRITING METRICS\n",
    "                with self.writer_train.as_default():\n",
    "                    for metric in self.metrics:\n",
    "                        tf.summary.scalar(metric.name, metric.result(), step=self.prev_epochs)\n",
    "                self.reset_metrics()\n",
    "                bar.update(1)\n",
    "                self.prev_epochs += 1\n",
    "            metrics = {metric.name: [training_metrics[metric.name], testing_metrics[metric.name]] for metric in self.metrics}\n",
    "            return metrics"
   ]
  },
  {
   "cell_type": "code",
   "execution_count": 41,
   "id": "3fb16834",
   "metadata": {},
   "outputs": [
    {
     "data": {
      "text/plain": [
       "<tf.Tensor: shape=(2, 1), dtype=float32, numpy=\n",
       "array([[0.52494144],\n",
       "       [0.4750586 ]], dtype=float32)>"
      ]
     },
     "execution_count": 41,
     "metadata": {},
     "output_type": "execute_result"
    }
   ],
   "source": [
    "class Generator(tf.keras.Model):\n",
    "    def __init__(self, **kwargs):\n",
    "        super().__init__(**kwargs)\n",
    "        self.dense = tf.keras.layers.Dense(9 * 256, activation='relu')\n",
    "        self.flatten = tf.keras.layers.Reshape((3, 3, 256))\n",
    "        self.conv_0 = tf.keras.layers.Conv2DTranspose(filters=256, kernel_size=(3, 3), strides=(2, 2), padding='valid', activation='relu')\n",
    "        # (7, 7, 256)\n",
    "        self.conv_1 = tf.keras.layers.Conv2D(filters=256, kernel_size=(3, 3), padding='same', activation='relu')\n",
    "        self.conv_2 = tf.keras.layers.Conv2D(filters=256, kernel_size=(3, 3), padding='same', activation='relu')\n",
    "        self.norm_0 = tf.keras.layers.BatchNormalization()\n",
    "        self.conv_3 = tf.keras.layers.Conv2DTranspose(filters=128, kernel_size=(3, 3), strides=(2, 2), padding='same', activation='relu')\n",
    "        # (14, 14, 128)\n",
    "        self.conv_4 = tf.keras.layers.Conv2D(filters=128, kernel_size=(3, 3), padding='same', activation='relu')\n",
    "        self.conv_5 = tf.keras.layers.Conv2D(filters=128, kernel_size=(3, 3), padding='same', activation='relu')\n",
    "        self.norm_1 = tf.keras.layers.BatchNormalization()\n",
    "        self.conv_6 = tf.keras.layers.Conv2DTranspose(filters=64, kernel_size=(3, 3), strides=(2, 2), padding='same', activation='relu')\n",
    "        # (28, 28, 128)\n",
    "        self.conv_7 = tf.keras.layers.Conv2D(filters=64, kernel_size=(3, 3), padding='same', activation='relu')\n",
    "        self.conv_8 = tf.keras.layers.Conv2D(filters=64, kernel_size=(3, 3), padding='same', activation='relu')\n",
    "        self.norm_2 = tf.keras.layers.BatchNormalization()\n",
    "        self.conv_9 = tf.keras.layers.Conv2D(filters=1, kernel_size=(3, 3), padding='same')\n",
    "        self.optimizer = tf.keras.optimizers.Adam(learning_rate=1e-3)\n",
    "        \n",
    "        \n",
    "    def call(self, batch_size, training=True):\n",
    "        X = tf.random.normal((batch_size, 256))\n",
    "        X = self.dense(X, training=training)\n",
    "        X = self.flatten(X, training=training)\n",
    "        X = self.conv_0(X, training=training)\n",
    "        # 1st BLOCK\n",
    "        Z = self.conv_1(X, training=training)\n",
    "        Z = self.conv_2(Z, training=training)\n",
    "        Z = Z + X\n",
    "        self.norm_0(Z, training=training)\n",
    "        X = self.conv_3(Z, training=training)\n",
    "        # 2nd BLOCK\n",
    "        Z = self.conv_4(X, training=training)\n",
    "        Z = self.conv_5(Z, training=training)\n",
    "        Z = Z + X\n",
    "        self.norm_1(Z, training=training)\n",
    "        X = self.conv_6(Z, training=training)\n",
    "        # 3rd BLOCK\n",
    "        Z = self.conv_7(X, training=training)\n",
    "        Z = self.conv_8(Z, training=training)\n",
    "        Z = Z + X\n",
    "        self.norm_2(Z, training=training)\n",
    "        X = self.conv_9(Z, training=training)\n",
    "        return X\n",
    "        \n",
    "\n",
    "\n",
    "class Discriminator(tf.keras.Model):\n",
    "    def __init__(self, **kwargs):\n",
    "        super().__init__(**kwargs)\n",
    "        self.conv_0 = tf.keras.layers.Conv2D(filters=32, kernel_size=(3, 3), strides=(1, 1), padding='same', activation='relu')\n",
    "        # (28, 28, 64)\n",
    "        self.conv_1 = tf.keras.layers.SeparableConv2D(filters=64, kernel_size=(3, 3), strides=(1, 1), padding='same', activation='relu')\n",
    "        self.conv_2 = tf.keras.layers.SeparableConv2D(filters=64, kernel_size=(3, 3), strides=(1, 1), padding='same', activation='relu')\n",
    "        self.norm_0 = tf.keras.layers.BatchNormalization()\n",
    "        self.pool_0 = tf.keras.layers.AveragePooling2D(pool_size=(2, 2))\n",
    "        # (14, 14, 128)\n",
    "        self.conv_3 = tf.keras.layers.SeparableConv2D(filters=128, kernel_size=(3, 3), strides=(1, 1), padding='same', activation='relu')\n",
    "        self.conv_4 = tf.keras.layers.SeparableConv2D(filters=128, kernel_size=(3, 3), strides=(1, 1), padding='same', activation='relu')\n",
    "        self.norm_1 = tf.keras.layers.BatchNormalization()\n",
    "        self.pool_1 = tf.keras.layers.AveragePooling2D(pool_size=(2, 2))\n",
    "        # (7, 7, 256)\n",
    "        self.conv_5 = tf.keras.layers.SeparableConv2D(filters=256, kernel_size=(3, 3), strides=(1, 1), padding='same', activation='relu')\n",
    "        self.conv_6 = tf.keras.layers.SeparableConv2D(filters=256, kernel_size=(3, 3), strides=(1, 1), padding='same', activation='relu')\n",
    "        self.norm_2 = tf.keras.layers.BatchNormalization()\n",
    "        self.pool_2 = tf.keras.layers.GlobalAveragePooling2D()\n",
    "        # (256)\n",
    "        self.flatten = tf.keras.layers.Flatten()\n",
    "        self.dense = tf.keras.layers.Dense(1, activation='sigmoid')\n",
    "        self.optimizer = tf.keras.optimizers.Adam(learning_rate=1e-3)\n",
    "    \n",
    "    \n",
    "    def call(self, X, training=True):\n",
    "        # Constructing Filterspace\n",
    "        X = self.conv_0(X, training=training)\n",
    "        # 1st BLOCK\n",
    "        Z = self.conv_1(X, training=training)\n",
    "        Z = self.conv_2(Z, training=training)\n",
    "        Z = Z + tf.concat([X, X], axis=3)\n",
    "        Z = self.norm_0(Z, training=training)\n",
    "        X = self.pool_0(Z, training=training)\n",
    "        # 2nd BLOCK\n",
    "        Z = self.conv_3(X, training=training)\n",
    "        Z = self.conv_4(Z, training=training)\n",
    "        Z = Z + tf.concat([X, X], axis=3)\n",
    "        Z = self.norm_1(Z, training=training)\n",
    "        X = self.pool_1(Z, training=training)\n",
    "        # 3rd BLOCK\n",
    "        Z = self.conv_5(X, training=training)\n",
    "        Z = self.conv_6(Z, training=training)\n",
    "        Z = Z + tf.concat([X, X], axis=3)\n",
    "        Z = self.norm_2(Z, training=training)\n",
    "        X = self.pool_2(Z, training=training)\n",
    "        # FINALLY\n",
    "        X = self.flatten(X)\n",
    "        P = self.dense(X)\n",
    "        return P\n",
    "\n",
    "\n",
    "\n",
    "G = Generator()\n",
    "D = Discriminator()\n",
    "D(G(2))"
   ]
  },
  {
   "cell_type": "code",
   "execution_count": 54,
   "id": "3b60d8ad",
   "metadata": {},
   "outputs": [],
   "source": [
    "import datetime\n",
    "from tqdm import tqdm\n",
    "\n",
    "\n",
    "\n",
    "class GAN(tf.keras.Model): # aka Adversarial Minmax\n",
    "    NAME = 'NAMELESS_MODEL'\n",
    "    def __init__(self, **kwargs):\n",
    "        super().__init__(**kwargs)\n",
    "        self.G = Generator()\n",
    "        self.D = Discriminator()\n",
    "        self.is_setup = False\n",
    "        self.loss = tf.keras.losses.BinaryCrossentropy()\n",
    "        self.loss_metric = tf.keras.metrics.Mean(name=\"loss\")\n",
    "        self.prev_epochs = 0\n",
    "    \n",
    "    \n",
    "    def reset_metrics(self):\n",
    "        for metric in self.metrics:\n",
    "            metric.reset_state()\n",
    "    \n",
    "    \n",
    "    def setup(self):\n",
    "        if self.is_setup:\n",
    "            return\n",
    "        # DEFINE PATHSf\n",
    "        current_time = datetime.datetime.now().strftime(\"%Y.%m.%d-%H:%M:%S\")\n",
    "        train_log_path = f\"logs/{self.NAME}{current_time}\"\n",
    "        # CONSTRUCT WRITERS\n",
    "        self.writer = tf.summary.create_file_writer(train_log_path)\n",
    "        self.is_setup = True\n",
    "    \n",
    "    \n",
    "    @tf.function\n",
    "    def call(self, X_true, training=False):\n",
    "        batch_size = X_true.shape[0]\n",
    "        X_false = self.G(batch_size)\n",
    "        X = tf.concat([X_true, X_false], axis=0)\n",
    "        P = self.D(X)\n",
    "        return P\n",
    "    \n",
    "    \n",
    "    @tf.function\n",
    "    def step(self, X_true, training=True):\n",
    "        batch_size = X_true.shape[0]\n",
    "        T = tf.concat([tf.ones((batch_size, 1)), tf.zeros((batch_size, 1))], axis=0)\n",
    "        if training:\n",
    "            with tf.GradientTape(persistent=True) as tape:\n",
    "                P = self(X_true, training=training)\n",
    "                L_D = self.loss(T, P)\n",
    "                L_G = -L_D\n",
    "            nabla_G = tape.gradient(L_G, self.G.trainable_weights)\n",
    "            nabla_D = tape.gradient(L_D, self.D.trainable_weights)\n",
    "            self.G.optimizer.apply_gradients(zip(nabla_G, self.G.trainable_weights))\n",
    "            self.D.optimizer.apply_gradients(zip(nabla_D, self.D.trainable_weights))\n",
    "        else:\n",
    "            P = self(X_true)\n",
    "            L_D = self.loss(T, P)\n",
    "        self.loss_metric.update_state(L_D)\n",
    "        return {metric.name: float(metric.result()) for metric in self.metrics}\n",
    "\n",
    "\n",
    "    def train(self, dataset, epochs):\n",
    "        training_metrics = {metric.name: [] for metric in self.metrics}\n",
    "        testing_metrics = {metric.name: [] for metric in self.metrics}\n",
    "        self.setup()\n",
    "        with tqdm(epochs) as bar:\n",
    "            bar.set_description('TRAINING')\n",
    "            for epoch in range(epochs):\n",
    "                # TRAINING\n",
    "                for X_true in dataset:\n",
    "                    metrics = self.step(X_true, training=True)\n",
    "                    for name, value in metrics.items():\n",
    "                        training_metrics[name].append(value)\n",
    "                # WRITING METRICS\n",
    "                with self.writer_train.as_default():\n",
    "                    for metric in self.metrics:\n",
    "                        tf.summary.scalar(metric.name, metric.result(), step=self.prev_epochs)\n",
    "                self.reset_metrics()\n",
    "                bar.update(1)\n",
    "                self.prev_epochs += 1\n",
    "            metrics = {metric.name: [training_metrics[metric.name], testing_metrics[metric.name]] for metric in self.metrics}\n",
    "            return metrics"
   ]
  },
  {
   "cell_type": "code",
   "execution_count": null,
   "id": "cf2bd474",
   "metadata": {},
   "outputs": [
    {
     "name": "stderr",
     "output_type": "stream",
     "text": [
      "TRAINING: : 0it [00:00, ?it/s]"
     ]
    },
    {
     "name": "stdout",
     "output_type": "stream",
     "text": [
      "WARNING:tensorflow:Gradients do not exist for variables ['generator_17/batch_normalization_81/gamma:0', 'generator_17/batch_normalization_81/beta:0', 'generator_17/batch_normalization_82/gamma:0', 'generator_17/batch_normalization_82/beta:0', 'generator_17/batch_normalization_83/gamma:0', 'generator_17/batch_normalization_83/beta:0'] when minimizing the loss. If you're using `model.compile()`, did you forget to provide a `loss`argument?\n",
      "WARNING:tensorflow:Gradients do not exist for variables ['generator_17/batch_normalization_81/gamma:0', 'generator_17/batch_normalization_81/beta:0', 'generator_17/batch_normalization_82/gamma:0', 'generator_17/batch_normalization_82/beta:0', 'generator_17/batch_normalization_83/gamma:0', 'generator_17/batch_normalization_83/beta:0'] when minimizing the loss. If you're using `model.compile()`, did you forget to provide a `loss`argument?\n"
     ]
    }
   ],
   "source": [
    "model = GAN()\n",
    "model.train(dataset, 1)"
   ]
  }
 ],
 "metadata": {
  "kernelspec": {
   "display_name": "Python 3 (ipykernel)",
   "language": "python",
   "name": "python3"
  },
  "language_info": {
   "codemirror_mode": {
    "name": "ipython",
    "version": 3
   },
   "file_extension": ".py",
   "mimetype": "text/x-python",
   "name": "python",
   "nbconvert_exporter": "python",
   "pygments_lexer": "ipython3",
   "version": "3.10.9"
  }
 },
 "nbformat": 4,
 "nbformat_minor": 5
}
