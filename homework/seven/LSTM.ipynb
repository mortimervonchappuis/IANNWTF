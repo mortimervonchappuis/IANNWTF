{
 "cells": [
  {
   "cell_type": "code",
   "execution_count": 19,
   "id": "899e806f",
   "metadata": {},
   "outputs": [],
   "source": [
    "import tensorflow_datasets as tfds\n",
    "import tensorflow as tf\n",
    "import numpy as np\n",
    "import math\n",
    "\n",
    "(train, test) , info = tfds.load('mnist', split =['train', 'test'], \n",
    "                                 as_supervised=True , with_info=True)"
   ]
  },
  {
   "cell_type": "code",
   "execution_count": 21,
   "id": "941d10ee",
   "metadata": {},
   "outputs": [],
   "source": [
    "def preprocess(data):\n",
    "    # DATA TYPE\n",
    "    data = data.map(lambda img, target: (tf.cast(img, tf.float32), tf.cast(target, tf.float32)))\n",
    "    # NORMALIZE\n",
    "    data = data.map(lambda img, target: ((img - 128.)/64., target))\n",
    "    # SEQUENCING\n",
    "    data = data.batch(4)\n",
    "    data = data.map(lambda img, target: (img, tf.reduce_sum(target[0::2]) - tf.reduce_sum(target[1::2])))\n",
    "    # DATAFLOW PREP\n",
    "    data = data.cache()\n",
    "    data = data.shuffle(1000, seed=42)\n",
    "    data = data.batch(32)\n",
    "    data = data.prefetch(10)\n",
    "    return data\n",
    "\n",
    "\n",
    "train = train.apply(preprocess)\n",
    "test  = test.apply(preprocess)"
   ]
  },
  {
   "cell_type": "code",
   "execution_count": 23,
   "id": "13475c78",
   "metadata": {},
   "outputs": [
    {
     "name": "stdout",
     "output_type": "stream",
     "text": [
      "tf.Tensor(12.0, shape=(), dtype=float32)\n"
     ]
    },
    {
     "name": "stderr",
     "output_type": "stream",
     "text": [
      "2022-12-17 19:33:42.796527: W tensorflow/core/kernels/data/cache_dataset_ops.cc:768] The calling iterator did not fully read the dataset being cached. In order to avoid unexpected truncation of the dataset, the partially cached contents of the dataset  will be discarded. This can happen if you have an input pipeline similar to `dataset.cache().take(k).repeat()`. You should use `dataset.take(k).cache().repeat()` instead.\n",
      "2022-12-17 19:33:42.796636: W tensorflow/core/kernels/data/cache_dataset_ops.cc:768] The calling iterator did not fully read the dataset being cached. In order to avoid unexpected truncation of the dataset, the partially cached contents of the dataset  will be discarded. This can happen if you have an input pipeline similar to `dataset.cache().take(k).repeat()`. You should use `dataset.take(k).cache().repeat()` instead.\n"
     ]
    },
    {
     "data": {
      "image/png": "[encoded data removed]",
      "text/plain": [
       "<Figure size 640x480 with 1 Axes>"
      ]
     },
     "metadata": {},
     "output_type": "display_data"
    }
   ],
   "source": [
    "from matplotlib import pyplot as plt\n",
    "%matplotlib inline\n",
    "\n",
    "x, y = batch = next(iter(train))\n",
    "\n",
    "x = tf.concat([x[0, i, ...] for i in range(4)], axis=1)\n",
    "y = y[0,...]\n",
    "plt.imshow(x, cmap='binary')\n",
    "print(y)"
   ]
  },
  {
   "cell_type": "code",
   "execution_count": 86,
   "id": "ea0a5851",
   "metadata": {},
   "outputs": [],
   "source": [
    "import datetime\n",
    "from tqdm import tqdm\n",
    "\n",
    "\n",
    "\n",
    "class Model(tf.keras.Model):\n",
    "    def __init__(self, **kwargs):\n",
    "        super().__init__(**kwargs)\n",
    "        self.is_setup = False\n",
    "        self.accuracy_metric = tf.keras.metrics.CategoricalAccuracy(name=\"acc\")\n",
    "        self.loss_metric = tf.keras.metrics.Mean(name=\"loss\")\n",
    "        self.prev_epochs = 0\n",
    "    \n",
    "    \n",
    "    def reset_metrics(self):\n",
    "        for metric in self.metrics:\n",
    "            metric.reset_state()\n",
    "    \n",
    "    \n",
    "    def setup(self):\n",
    "        if self.is_setup:\n",
    "            return\n",
    "        # DEFINE PATHS\n",
    "        current_time = datetime.datetime.now().strftime(\"%Y.%m.%d-%H:%M:%S\")\n",
    "        train_log_path = f\"logs/{current_time}/train\"\n",
    "        val_log_path = f\"logs/{current_time}/val\"\n",
    "        # CONSTRUCT WRITERS\n",
    "        self.writer_train = tf.summary.create_file_writer(train_log_path)\n",
    "        self.writer_val   = tf.summary.create_file_writer(val_log_path)\n",
    "        self.is_setup = True\n",
    "    \n",
    "    \n",
    "    @tf.function\n",
    "    def call(self, x, training=False):\n",
    "        for layer in self.layers:\n",
    "            x = layer(x, training=training)\n",
    "        return x\n",
    "    \n",
    "    \n",
    "    @tf.function\n",
    "    def step(self, X, T, training=True):\n",
    "        if training:\n",
    "            with tf.GradientTape() as tape:\n",
    "                Y = self(X, training=training)\n",
    "                L = self.loss(T, Y)\n",
    "            gradient = tape.gradient(L, self.trainable_weights)\n",
    "            self.optimizer.apply_gradients(zip(gradient, self.trainable_weights))\n",
    "        else:\n",
    "            Y = self(X, training)\n",
    "            L = self.loss(T, Y)\n",
    "        self.loss_metric.update_state(L)\n",
    "        self.accuracy_metric.update_state(T, Y)\n",
    "        return {metric.name: float(metric.result()) for metric in self.metrics}\n",
    "    \n",
    "    \n",
    "    def train(self, train, test, epochs):\n",
    "        training_metrics = {metric.name: [] for metric in self.metrics}\n",
    "        testing_metrics = {metric.name: [] for metric in self.metrics}\n",
    "        self.setup()\n",
    "        with tqdm(epochs) as bar:\n",
    "            for epoch in range(epochs):\n",
    "                # TRAINING\n",
    "                bar.set_description('TRAINING')\n",
    "                for X, T  in train:\n",
    "                    metrics = self.step(X, T, training=True)\n",
    "                    for name, value in metrics.items():\n",
    "                        training_metrics[name].append(value)\n",
    "                # WRITING METRICS\n",
    "                with self.writer_train.as_default():\n",
    "                    for metric in self.metrics:\n",
    "                        tf.summary.scalar(metric.name, metric.result(), step=self.prev_epochs)\n",
    "                self.reset_metrics()\n",
    "                # TESTING\n",
    "                bar.set_description('TESTING')\n",
    "                for X, T  in test:\n",
    "                    metrics = self.step(X, T, training=False)\n",
    "                    for name, value in metrics.items():\n",
    "                        testing_metrics[name].append(value)\n",
    "                # WRITING METRICS\n",
    "                with self.writer_val.as_default():\n",
    "                    for metric in self.metrics:\n",
    "                        tf.summary.scalar(metric.name, metric.result(), step=self.prev_epochs)\n",
    "                self.reset_metrics()\n",
    "                bar.update(1)\n",
    "                self.prev_epochs += 1\n",
    "            metrics = {metric.name: [training_metrics[metric.name], testing_metrics[metric.name]] for metric in self.metrics}\n",
    "            return metrics"
   ]
  },
  {
   "cell_type": "code",
   "execution_count": 101,
   "id": "a977ee48",
   "metadata": {},
   "outputs": [
    {
     "name": "stdout",
     "output_type": "stream",
     "text": [
      "<keras.layers.recurrent.RNN object at 0x7fcc2c1ae620>\n",
      "tf.Tensor(\n",
      "[[ 0.25109714 -0.6266188 ]\n",
      " [ 0.25109714 -0.6266188 ]\n",
      " [ 0.25109714 -0.6266188 ]\n",
      " [ 0.25109714 -0.6266188 ]\n",
      " [ 0.25109714 -0.6266188 ]\n",
      " [ 0.25109714 -0.6266188 ]\n",
      " [ 0.25109714 -0.6266188 ]\n",
      " [ 0.25109714 -0.6266188 ]\n",
      " [ 0.25109714 -0.6266188 ]\n",
      " [ 0.25109714 -0.6266188 ]\n",
      " [ 0.25109714 -0.6266188 ]\n",
      " [ 0.25109714 -0.6266188 ]\n",
      " [ 0.25109714 -0.6266188 ]\n",
      " [ 0.25109714 -0.6266188 ]\n",
      " [ 0.25109714 -0.6266188 ]\n",
      " [ 0.25109714 -0.6266188 ]\n",
      " [ 0.25109714 -0.6266188 ]\n",
      " [ 0.25109714 -0.6266188 ]\n",
      " [ 0.25109714 -0.6266188 ]\n",
      " [ 0.25109714 -0.6266188 ]\n",
      " [ 0.25109714 -0.6266188 ]\n",
      " [ 0.25109714 -0.6266188 ]\n",
      " [ 0.25109714 -0.6266188 ]\n",
      " [ 0.25109714 -0.6266188 ]\n",
      " [ 0.25109714 -0.6266188 ]\n",
      " [ 0.25109714 -0.6266188 ]\n",
      " [ 0.25109714 -0.6266188 ]\n",
      " [ 0.25109714 -0.6266188 ]\n",
      " [ 0.25109714 -0.6266188 ]\n",
      " [ 0.25109714 -0.6266188 ]\n",
      " [ 0.25109714 -0.6266188 ]\n",
      " [ 0.25109714 -0.6266188 ]], shape=(32, 2), dtype=float32)\n"
     ]
    }
   ],
   "source": [
    "class AbstractLSTM(tf.keras.layers.AbstractRNNCell):\n",
    "    L2 = tf.keras.regularizers.L2(1e-3)\n",
    "    def __init__(self, cell_size, **kwargs):\n",
    "        super().__init__(**kwargs)\n",
    "        self.cell_size   = cell_size\n",
    "        self.W_del  = tf.keras.layers.Dense(self.cell_size, kernel_regularizer=self.L2, activation='sigmoid')\n",
    "        self.W_in   = tf.keras.layers.Dense(self.cell_size, kernel_regularizer=self.L2, activation='sigmoid')\n",
    "        self.W_data = tf.keras.layers.Dense(self.cell_size, kernel_regularizer=self.L2, activation='tanh')\n",
    "        self.W_out  = tf.keras.layers.Dense(self.cell_size, kernel_regularizer=self.L2, activation='sigmoid')\n",
    "    \n",
    "    \n",
    "    @property\n",
    "    def state_size(self):\n",
    "        return [tf.TensorShape([self.cell_size]), tf.TensorShape([self.cell_size])]\n",
    "    \n",
    "    \n",
    "    @property\n",
    "    def output_size(self):\n",
    "        return [tf.TensorShape([self.cell_size])]\n",
    "    \n",
    "    \n",
    "    def get_initial_state(self, inputs=None, batch_size=None, dtype=None):\n",
    "        return [tf.zeros((batch_size, self.cell_size), dtype=dtype), \n",
    "                tf.zeros((batch_size, self.cell_size), dtype=dtype)]\n",
    "    \n",
    "    \n",
    "    def call(self, X, states):\n",
    "        C, H = states\n",
    "        Z = tf.concat([X, H], axis=1)\n",
    "        M_del = self.W_del(Z)\n",
    "        M_in  = self.W_in(Z)\n",
    "        M_out = self.W_out(Z)\n",
    "        C_in  = self.W_data(Z)\n",
    "        C = C * M_del + C_in * M_in\n",
    "        H = tf.nn.tanh(C) * M_out\n",
    "        return H, [C, H]\n",
    "        \n",
    "\n",
    "\n",
    "LSTM = lambda n: tf.keras.layers.RNN(AbstractLSTM(n), return_sequences=False, unroll=True)\n",
    "\n",
    "lstm = LSTM(2)\n",
    "print(lstm)\n",
    "print(lstm(tf.ones((32, 4, 16))))"
   ]
  },
  {
   "cell_type": "code",
   "execution_count": 104,
   "id": "65677220",
   "metadata": {},
   "outputs": [
    {
     "name": "stderr",
     "output_type": "stream",
     "text": [
      "TESTING: : 10it [00:42,  4.28s/it]\n"
     ]
    }
   ],
   "source": [
    "class AlternateSumBase(tf.keras.layers.Layer):\n",
    "    L2 = tf.keras.regularizers.L2(1e-3)\n",
    "    def __init__(self, **kwargs):\n",
    "        super().__init__(**kwargs)\n",
    "        self.conv_1 = tf.keras.layers.Conv2D(filters=64, kernel_size=(3, 3), \n",
    "                                             strides=(1, 1), activation='relu', \n",
    "                                             kernel_regularizer=self.L2,\n",
    "                                             padding='same') # (28, 28) -> (28, 28)\n",
    "        self.pool_1 = tf.keras.layers.MaxPooling2D(pool_size=(2, 2), padding=\"valid\") # (28, 28) -> (14, 14)\n",
    "        self.conv_2 = tf.keras.layers.SeparableConv2D(filters=64, kernel_size=(3, 3), \n",
    "                                                      strides=(2, 2), activation='relu', \n",
    "                                                      kernel_regularizer=self.L2,\n",
    "                                                      depthwise_regularizer=self.L2,\n",
    "                                                      padding='same') # (14, 14) -> (7, 7)\n",
    "        self.conv_3 = tf.keras.layers.SeparableConv2D(filters=96, kernel_size=(3, 3), \n",
    "                                                      strides=(1, 1), activation='relu', \n",
    "                                                      kernel_regularizer=self.L2,\n",
    "                                                      depthwise_regularizer=self.L2,\n",
    "                                                      padding='valid') # (7, 7) -> (5, 5)\n",
    "        self.conv_4 = tf.keras.layers.SeparableConv2D(filters=128, kernel_size=(3, 3), \n",
    "                                                      strides=(1, 1), activation='relu', \n",
    "                                                      kernel_regularizer=self.L2,\n",
    "                                                      depthwise_regularizer=self.L2,\n",
    "                                                      padding='valid') # (5, 5) -> (3, 3)\n",
    "        self.conv_5 = tf.keras.layers.Conv2D(filters=128, kernel_size=(3, 3), \n",
    "                                             strides=(1, 1), activation='relu', \n",
    "                                             kernel_regularizer=self.L2,\n",
    "                                             padding='valid') # (3, 3) -> (1, 1)\n",
    "        self.flatten = tf.keras.layers.Flatten()\n",
    "        self.affine_1 = tf.keras.layers.Dense(128, activation='relu', kernel_regularizer=self.L2)\n",
    "        self.affine_2 = tf.keras.layers.Dense(10,  activation='softmax', kernel_regularizer=self.L2)\n",
    "    \n",
    "    \n",
    "    def call(self, x, training=True):\n",
    "        z = self.conv_1(x, training=training)\n",
    "        z = self.pool_1(z, training=training)\n",
    "        z = self.conv_2(z, training=training)\n",
    "        z = self.conv_3(z, training=training)\n",
    "        z = self.conv_4(z, training=training)\n",
    "        z = self.conv_5(z, training=training)\n",
    "        z = self.flatten(z, training=training)\n",
    "        z = self.affine_1(z, training=training)\n",
    "        z = self.affine_2(z, training=training)\n",
    "        return z\n",
    "\n",
    "\n",
    "\n",
    "class AlternateSum(Model):\n",
    "    L2 = tf.keras.regularizers.L2(1e-3)\n",
    "    def __init__(self, **kwargs):\n",
    "        super().__init__(**kwargs)\n",
    "        self.base = tf.keras.layers.TimeDistributed(AlternateSumBase())\n",
    "        self.lstm = LSTM(16)\n",
    "        self.affine_3 = tf.keras.layers.Dense(1, kernel_regularizer=self.L2)\n",
    "        self.loss = tf.keras.losses.MeanSquaredError()\n",
    "        self.optimizer = tf.keras.optimizers.Adam(learning_rate=1e-3)\n",
    "\n",
    "\n",
    "\n",
    "model = AlternateSum()\n",
    "x, y = batch = next(iter(train))\n",
    "metrics = model.train(train, test, 10)"
   ]
  },
  {
   "cell_type": "code",
   "execution_count": 107,
   "id": "552aa885",
   "metadata": {},
   "outputs": [
    {
     "data": {
      "image/png": "[encoded data removed]",
      "text/plain": [
       "<Figure size 640x480 with 1 Axes>"
      ]
     },
     "metadata": {},
     "output_type": "display_data"
    }
   ],
   "source": [
    "training_loss, test_loss = metrics['loss']\n",
    "plt.plot(range(len(training_loss)), training_loss)\n",
    "plt.plot([x /len(test_loss) * len(training_loss) for x in range(len(test_loss))], test_loss)\n",
    "plt.title('Loss over time')\n",
    "plt.xlabel('epochs')\n",
    "plt.ylabel('loss')\n",
    "plt.legend(['training', 'testing'])\n",
    "plt.show()"
   ]
  },
  {
   "cell_type": "code",
   "execution_count": 116,
   "id": "4e107bb3",
   "metadata": {},
   "outputs": [
    {
     "name": "stdout",
     "output_type": "stream",
     "text": [
      "-8.0 [-8.161496]\n"
     ]
    },
    {
     "data": {
      "image/png": "[encoded data removed]",
      "text/plain": [
       "<Figure size 640x480 with 1 Axes>"
      ]
     },
     "metadata": {},
     "output_type": "display_data"
    }
   ],
   "source": [
    "x, y = batch = next(iter(train))\n",
    "p = model(x)\n",
    "\n",
    "x = tf.concat([x[0, i, ...] for i in range(4)], axis=1)\n",
    "y = y[0,...]\n",
    "p = p[0,...]\n",
    "\n",
    "plt.imshow(x, cmap='binary')\n",
    "print(y.numpy(), p.numpy())"
   ]
  }
 ],
 "metadata": {
  "kernelspec": {
   "display_name": "Python 3",
   "language": "python",
   "name": "python3"
  },
  "language_info": {
   "codemirror_mode": {
    "name": "ipython",
    "version": 3
   },
   "file_extension": ".py",
   "mimetype": "text/x-python",
   "name": "python",
   "nbconvert_exporter": "python",
   "pygments_lexer": "ipython3",
   "version": "3.10.8"
  }
 },
 "nbformat": 4,
 "nbformat_minor": 5
}
